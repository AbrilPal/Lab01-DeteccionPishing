{
 "cells": [
  {
   "cell_type": "markdown",
   "metadata": {},
   "source": [
    "# LAB01 - Deteccion Pishing"
   ]
  },
  {
   "cell_type": "markdown",
   "metadata": {},
   "source": [
    "## Security Data Science\n",
    "* César Rodas 16776\n",
    "*\n"
   ]
  },
  {
   "cell_type": "markdown",
   "metadata": {},
   "source": [
    "### Librerías"
   ]
  },
  {
   "cell_type": "code",
   "execution_count": 13,
   "metadata": {},
   "outputs": [],
   "source": [
    "import pandas as pd\n",
    "import numpy as np\n",
    "import  matplotlib.pyplot as plt\n",
    "import seaborn as sns\n",
    "\n",
    "#!{sys.executable} -m pip install pandas_profiling\n",
    "import pandas_profiling as pp\n",
    "from pandas_profiling import ProfileReport\n",
    "\n",
    "import sklearn\n",
    "from sklearn import metrics, model_selection, tree\n",
    "\n",
    "from urllib.parse import urlparse"
   ]
  },
  {
   "cell_type": "markdown",
   "metadata": {},
   "source": [
    "## Parte 1"
   ]
  },
  {
   "cell_type": "markdown",
   "metadata": {},
   "source": [
    "### Exploración de datos"
   ]
  },
  {
   "cell_type": "code",
   "execution_count": 5,
   "metadata": {},
   "outputs": [],
   "source": [
    "# 1. Cargue el dataset en un dataframe de pandas, muestre un ejemplo de cinco observaciones.\n",
    "\n",
    "#Carga de datos\n",
    "df = pd.read_csv('dataset_pishing.csv')"
   ]
  },
  {
   "cell_type": "code",
   "execution_count": 7,
   "metadata": {},
   "outputs": [
    {
     "data": {
      "text/html": [
       "<div>\n",
       "<style scoped>\n",
       "    .dataframe tbody tr th:only-of-type {\n",
       "        vertical-align: middle;\n",
       "    }\n",
       "\n",
       "    .dataframe tbody tr th {\n",
       "        vertical-align: top;\n",
       "    }\n",
       "\n",
       "    .dataframe thead th {\n",
       "        text-align: right;\n",
       "    }\n",
       "</style>\n",
       "<table border=\"1\" class=\"dataframe\">\n",
       "  <thead>\n",
       "    <tr style=\"text-align: right;\">\n",
       "      <th></th>\n",
       "      <th>url</th>\n",
       "      <th>ip</th>\n",
       "      <th>nb_www</th>\n",
       "      <th>nb_com</th>\n",
       "      <th>nb_dslash</th>\n",
       "      <th>http_in_path</th>\n",
       "      <th>punycode</th>\n",
       "      <th>port</th>\n",
       "      <th>tld_in_path</th>\n",
       "      <th>tld_in_subdomain</th>\n",
       "      <th>...</th>\n",
       "      <th>domain_in_title</th>\n",
       "      <th>domain_with_copyright</th>\n",
       "      <th>whois_registered_domain</th>\n",
       "      <th>domain_registration_length</th>\n",
       "      <th>domain_age</th>\n",
       "      <th>web_traffic</th>\n",
       "      <th>dns_record</th>\n",
       "      <th>google_index</th>\n",
       "      <th>page_rank</th>\n",
       "      <th>status</th>\n",
       "    </tr>\n",
       "  </thead>\n",
       "  <tbody>\n",
       "    <tr>\n",
       "      <th>0</th>\n",
       "      <td>http://www.crestonwood.com/router.php</td>\n",
       "      <td>0</td>\n",
       "      <td>1</td>\n",
       "      <td>0</td>\n",
       "      <td>0</td>\n",
       "      <td>0</td>\n",
       "      <td>0</td>\n",
       "      <td>0</td>\n",
       "      <td>0</td>\n",
       "      <td>0</td>\n",
       "      <td>...</td>\n",
       "      <td>0</td>\n",
       "      <td>1</td>\n",
       "      <td>0</td>\n",
       "      <td>45</td>\n",
       "      <td>-1</td>\n",
       "      <td>0</td>\n",
       "      <td>1</td>\n",
       "      <td>1</td>\n",
       "      <td>4</td>\n",
       "      <td>legitimate</td>\n",
       "    </tr>\n",
       "    <tr>\n",
       "      <th>1</th>\n",
       "      <td>http://shadetreetechnology.com/V4/validation/a...</td>\n",
       "      <td>1</td>\n",
       "      <td>0</td>\n",
       "      <td>0</td>\n",
       "      <td>0</td>\n",
       "      <td>0</td>\n",
       "      <td>0</td>\n",
       "      <td>0</td>\n",
       "      <td>0</td>\n",
       "      <td>0</td>\n",
       "      <td>...</td>\n",
       "      <td>1</td>\n",
       "      <td>0</td>\n",
       "      <td>0</td>\n",
       "      <td>77</td>\n",
       "      <td>5767</td>\n",
       "      <td>0</td>\n",
       "      <td>0</td>\n",
       "      <td>1</td>\n",
       "      <td>2</td>\n",
       "      <td>phishing</td>\n",
       "    </tr>\n",
       "    <tr>\n",
       "      <th>2</th>\n",
       "      <td>https://support-appleld.com.secureupdate.duila...</td>\n",
       "      <td>1</td>\n",
       "      <td>0</td>\n",
       "      <td>1</td>\n",
       "      <td>0</td>\n",
       "      <td>0</td>\n",
       "      <td>0</td>\n",
       "      <td>0</td>\n",
       "      <td>0</td>\n",
       "      <td>1</td>\n",
       "      <td>...</td>\n",
       "      <td>1</td>\n",
       "      <td>0</td>\n",
       "      <td>0</td>\n",
       "      <td>14</td>\n",
       "      <td>4004</td>\n",
       "      <td>5828815</td>\n",
       "      <td>0</td>\n",
       "      <td>1</td>\n",
       "      <td>0</td>\n",
       "      <td>phishing</td>\n",
       "    </tr>\n",
       "    <tr>\n",
       "      <th>3</th>\n",
       "      <td>http://rgipt.ac.in</td>\n",
       "      <td>0</td>\n",
       "      <td>0</td>\n",
       "      <td>0</td>\n",
       "      <td>0</td>\n",
       "      <td>0</td>\n",
       "      <td>0</td>\n",
       "      <td>0</td>\n",
       "      <td>0</td>\n",
       "      <td>0</td>\n",
       "      <td>...</td>\n",
       "      <td>1</td>\n",
       "      <td>0</td>\n",
       "      <td>0</td>\n",
       "      <td>62</td>\n",
       "      <td>-1</td>\n",
       "      <td>107721</td>\n",
       "      <td>0</td>\n",
       "      <td>0</td>\n",
       "      <td>3</td>\n",
       "      <td>legitimate</td>\n",
       "    </tr>\n",
       "    <tr>\n",
       "      <th>4</th>\n",
       "      <td>http://www.iracing.com/tracks/gateway-motorspo...</td>\n",
       "      <td>0</td>\n",
       "      <td>1</td>\n",
       "      <td>0</td>\n",
       "      <td>0</td>\n",
       "      <td>0</td>\n",
       "      <td>0</td>\n",
       "      <td>0</td>\n",
       "      <td>0</td>\n",
       "      <td>0</td>\n",
       "      <td>...</td>\n",
       "      <td>0</td>\n",
       "      <td>1</td>\n",
       "      <td>0</td>\n",
       "      <td>224</td>\n",
       "      <td>8175</td>\n",
       "      <td>8725</td>\n",
       "      <td>0</td>\n",
       "      <td>0</td>\n",
       "      <td>6</td>\n",
       "      <td>legitimate</td>\n",
       "    </tr>\n",
       "  </tbody>\n",
       "</table>\n",
       "<p>5 rows × 67 columns</p>\n",
       "</div>"
      ],
      "text/plain": [
       "                                                 url  ip  nb_www  nb_com  \\\n",
       "0              http://www.crestonwood.com/router.php   0       1       0   \n",
       "1  http://shadetreetechnology.com/V4/validation/a...   1       0       0   \n",
       "2  https://support-appleld.com.secureupdate.duila...   1       0       1   \n",
       "3                                 http://rgipt.ac.in   0       0       0   \n",
       "4  http://www.iracing.com/tracks/gateway-motorspo...   0       1       0   \n",
       "\n",
       "   nb_dslash  http_in_path  punycode  port  tld_in_path  tld_in_subdomain  \\\n",
       "0          0             0         0     0            0                 0   \n",
       "1          0             0         0     0            0                 0   \n",
       "2          0             0         0     0            0                 1   \n",
       "3          0             0         0     0            0                 0   \n",
       "4          0             0         0     0            0                 0   \n",
       "\n",
       "   ...  domain_in_title  domain_with_copyright  whois_registered_domain  \\\n",
       "0  ...                0                      1                        0   \n",
       "1  ...                1                      0                        0   \n",
       "2  ...                1                      0                        0   \n",
       "3  ...                1                      0                        0   \n",
       "4  ...                0                      1                        0   \n",
       "\n",
       "   domain_registration_length  domain_age  web_traffic  dns_record  \\\n",
       "0                          45          -1            0           1   \n",
       "1                          77        5767            0           0   \n",
       "2                          14        4004      5828815           0   \n",
       "3                          62          -1       107721           0   \n",
       "4                         224        8175         8725           0   \n",
       "\n",
       "   google_index  page_rank      status  \n",
       "0             1          4  legitimate  \n",
       "1             1          2    phishing  \n",
       "2             1          0    phishing  \n",
       "3             0          3  legitimate  \n",
       "4             0          6  legitimate  \n",
       "\n",
       "[5 rows x 67 columns]"
      ]
     },
     "execution_count": 7,
     "metadata": {},
     "output_type": "execute_result"
    }
   ],
   "source": [
    "# contenido del dataset\n",
    "df.head()"
   ]
  },
  {
   "cell_type": "code",
   "execution_count": 8,
   "metadata": {},
   "outputs": [
    {
     "data": {
      "text/plain": [
       "legitimate    5715\n",
       "phishing      5715\n",
       "Name: status, dtype: int64"
      ]
     },
     "execution_count": 8,
     "metadata": {},
     "output_type": "execute_result"
    }
   ],
   "source": [
    "#2. Muestre la cantidad de observaciones etiquetadas en la columna status como “legit” y como “pishing”.\n",
    "\n",
    "df['status'].value_counts()  "
   ]
  },
  {
   "cell_type": "markdown",
   "metadata": {},
   "source": [
    "**¿Está balanceado el dataset?**\n",
    "\n",
    "Sí, porque en la columna [status] existe el mismo numero de registros para _legitimate_ y _pishing_"
   ]
  },
  {
   "cell_type": "markdown",
   "metadata": {},
   "source": [
    "### Derivación de características"
   ]
  },
  {
   "cell_type": "markdown",
   "metadata": {},
   "source": [
    "##### f1 - Full url length"
   ]
  },
  {
   "cell_type": "code",
   "execution_count": 10,
   "metadata": {},
   "outputs": [],
   "source": [
    "df['url_length'] = df['url'].str.len()"
   ]
  },
  {
   "cell_type": "markdown",
   "metadata": {},
   "source": [
    "##### f2 - Hostname length"
   ]
  },
  {
   "cell_type": "code",
   "execution_count": 15,
   "metadata": {},
   "outputs": [],
   "source": [
    "def getHostname(url):\n",
    "  hostname = urlparse(url).netloc\n",
    "  return hostname\n",
    "\n",
    "df['hostname'] = df['url'].apply(getHostname)"
   ]
  },
  {
   "cell_type": "code",
   "execution_count": 16,
   "metadata": {},
   "outputs": [
    {
     "data": {
      "text/plain": [
       "0                                      www.crestonwood.com\n",
       "1                                  shadetreetechnology.com\n",
       "2        support-appleld.com.secureupdate.duilawyeryork...\n",
       "3                                              rgipt.ac.in\n",
       "4                                          www.iracing.com\n",
       "                               ...                        \n",
       "11425                                    www.fontspace.com\n",
       "11426                                   www.budgetbots.com\n",
       "11427                                     www.facebook.com\n",
       "11428                       www.mypublicdomainpictures.com\n",
       "11429                                       174.139.46.123\n",
       "Name: hostname, Length: 11430, dtype: object"
      ]
     },
     "execution_count": 16,
     "metadata": {},
     "output_type": "execute_result"
    }
   ],
   "source": [
    "df['hostname']"
   ]
  },
  {
   "cell_type": "code",
   "execution_count": 17,
   "metadata": {},
   "outputs": [],
   "source": [
    "df['hostname_length'] = df['hostname'].str.len()"
   ]
  },
  {
   "cell_type": "markdown",
   "metadata": {},
   "source": [
    "##### f4-20 - Special characters"
   ]
  },
  {
   "cell_type": "code",
   "execution_count": 18,
   "metadata": {},
   "outputs": [],
   "source": [
    "# '.' (f4), '-' (f5), '@' (f6) , '?' (f7), '&' (f8), '|' (f9), '=' (f10), '_' (f11), '˜' (f12),\n",
    "# '%' (f13), '/' (f14), '*' (f15), ':' (f16), ',' (f17), ';' (f18), '$' (f19), '%20' or space (f20)\n",
    "\n",
    "def number_of_occurrences(url):\n",
    "  caracteres = url.count('.') + url.count('-') + url.count('@') + url.count('?') + url.count('&') + url.count('|') + url.count('=') + url.count('_') + url.count('˜') + url.count('%') + url.count('/') + url.count('*') + url.count(':') + url.count(',') + url.count(';') + url.count('$') + url.count('%20') + url.count(' ') \n",
    "  return caracteres\n",
    "\n",
    "df['special_characters_count'] = df['url'].apply(number_of_occurrences)  "
   ]
  },
  {
   "cell_type": "markdown",
   "metadata": {},
   "source": [
    "##### f25 - Use HTTPS"
   ]
  },
  {
   "cell_type": "code",
   "execution_count": 21,
   "metadata": {},
   "outputs": [],
   "source": [
    "def getProtocol(url):\n",
    "  protocol = urlparse(url).scheme \n",
    "  return protocol\n",
    "\n",
    "df['protocol'] = df['url'].apply(getProtocol)\n"
   ]
  },
  {
   "cell_type": "code",
   "execution_count": 23,
   "metadata": {},
   "outputs": [
    {
     "data": {
      "text/plain": [
       "http     6983\n",
       "https    4447\n",
       "Name: protocol, dtype: int64"
      ]
     },
     "execution_count": 23,
     "metadata": {},
     "output_type": "execute_result"
    }
   ],
   "source": [
    "df['protocol'].value_counts()"
   ]
  },
  {
   "cell_type": "code",
   "execution_count": 26,
   "metadata": {},
   "outputs": [],
   "source": [
    "df['use_https'] = df['protocol']\n",
    "\n",
    "df['use_https'] = df['use_https'].replace(to_replace='https', value=1)\n",
    "df['use_https'] = df['use_https'].replace(to_replace='http', value=0)"
   ]
  },
  {
   "cell_type": "markdown",
   "metadata": {},
   "source": [
    "##### f26 - Ratio of digits in full URLs"
   ]
  },
  {
   "cell_type": "code",
   "execution_count": 35,
   "metadata": {},
   "outputs": [],
   "source": [
    "df['url_digits_count'] = df['url'].str.count('[0-9]')\n",
    "# df['url_length'] = df['url'].str.len()\n",
    "df['ratio_digits_url'] = df['url_digits_count'] / df['url_length']"
   ]
  },
  {
   "cell_type": "markdown",
   "metadata": {},
   "source": [
    "##### f27 - Ratio of digits in full Hostname"
   ]
  },
  {
   "cell_type": "code",
   "execution_count": 30,
   "metadata": {},
   "outputs": [],
   "source": [
    "df['hostname_digits_count'] = df['hostname'].str.count('[0-9]')\n",
    "\n",
    "df['ratio_digits_hostname'] = df['hostname_digits_count'] / df['hostname_length']"
   ]
  },
  {
   "cell_type": "markdown",
   "metadata": {},
   "source": [
    "**Ejemplo del dataset con las columnas nuevas**"
   ]
  },
  {
   "cell_type": "code",
   "execution_count": 45,
   "metadata": {},
   "outputs": [
    {
     "name": "stdout",
     "output_type": "stream",
     "text": [
      "<class 'pandas.core.frame.DataFrame'>\n",
      "RangeIndex: 11430 entries, 0 to 11429\n",
      "Data columns (total 10 columns):\n",
      " #   Column                    Non-Null Count  Dtype  \n",
      "---  ------                    --------------  -----  \n",
      " 0   url_length                11430 non-null  int64  \n",
      " 1   hostname                  11430 non-null  object \n",
      " 2   hostname_length           11430 non-null  int64  \n",
      " 3   special_characters_count  11430 non-null  int64  \n",
      " 4   protocol                  11430 non-null  object \n",
      " 5   use_https                 11430 non-null  int64  \n",
      " 6   url_digits_count          11430 non-null  int64  \n",
      " 7   ratio_digits_url          11430 non-null  float64\n",
      " 8   hostname_digits_count     11430 non-null  int64  \n",
      " 9   ratio_digits_hostname     11430 non-null  float64\n",
      "dtypes: float64(2), int64(6), object(2)\n",
      "memory usage: 893.1+ KB\n"
     ]
    }
   ],
   "source": [
    "df.iloc[:, [67, 68, 69, 70, 71, 72, 73, 74, 75, 76 ]].info()"
   ]
  },
  {
   "cell_type": "code",
   "execution_count": 48,
   "metadata": {},
   "outputs": [
    {
     "data": {
      "text/html": [
       "<div>\n",
       "<style scoped>\n",
       "    .dataframe tbody tr th:only-of-type {\n",
       "        vertical-align: middle;\n",
       "    }\n",
       "\n",
       "    .dataframe tbody tr th {\n",
       "        vertical-align: top;\n",
       "    }\n",
       "\n",
       "    .dataframe thead th {\n",
       "        text-align: right;\n",
       "    }\n",
       "</style>\n",
       "<table border=\"1\" class=\"dataframe\">\n",
       "  <thead>\n",
       "    <tr style=\"text-align: right;\">\n",
       "      <th></th>\n",
       "      <th>url</th>\n",
       "      <th>url_length</th>\n",
       "      <th>hostname_length</th>\n",
       "      <th>special_characters_count</th>\n",
       "      <th>use_https</th>\n",
       "      <th>ratio_digits_url</th>\n",
       "      <th>ratio_digits_hostname</th>\n",
       "    </tr>\n",
       "  </thead>\n",
       "  <tbody>\n",
       "    <tr>\n",
       "      <th>0</th>\n",
       "      <td>http://www.crestonwood.com/router.php</td>\n",
       "      <td>37</td>\n",
       "      <td>19</td>\n",
       "      <td>7</td>\n",
       "      <td>0</td>\n",
       "      <td>0.000000</td>\n",
       "      <td>0.0</td>\n",
       "    </tr>\n",
       "    <tr>\n",
       "      <th>1</th>\n",
       "      <td>http://shadetreetechnology.com/V4/validation/a...</td>\n",
       "      <td>77</td>\n",
       "      <td>23</td>\n",
       "      <td>7</td>\n",
       "      <td>0</td>\n",
       "      <td>0.220779</td>\n",
       "      <td>0.0</td>\n",
       "    </tr>\n",
       "    <tr>\n",
       "      <th>2</th>\n",
       "      <td>https://support-appleld.com.secureupdate.duila...</td>\n",
       "      <td>126</td>\n",
       "      <td>50</td>\n",
       "      <td>19</td>\n",
       "      <td>1</td>\n",
       "      <td>0.150794</td>\n",
       "      <td>0.0</td>\n",
       "    </tr>\n",
       "    <tr>\n",
       "      <th>3</th>\n",
       "      <td>http://rgipt.ac.in</td>\n",
       "      <td>18</td>\n",
       "      <td>11</td>\n",
       "      <td>5</td>\n",
       "      <td>0</td>\n",
       "      <td>0.000000</td>\n",
       "      <td>0.0</td>\n",
       "    </tr>\n",
       "    <tr>\n",
       "      <th>4</th>\n",
       "      <td>http://www.iracing.com/tracks/gateway-motorspo...</td>\n",
       "      <td>55</td>\n",
       "      <td>15</td>\n",
       "      <td>10</td>\n",
       "      <td>0</td>\n",
       "      <td>0.000000</td>\n",
       "      <td>0.0</td>\n",
       "    </tr>\n",
       "  </tbody>\n",
       "</table>\n",
       "</div>"
      ],
      "text/plain": [
       "                                                 url  url_length  \\\n",
       "0              http://www.crestonwood.com/router.php          37   \n",
       "1  http://shadetreetechnology.com/V4/validation/a...          77   \n",
       "2  https://support-appleld.com.secureupdate.duila...         126   \n",
       "3                                 http://rgipt.ac.in          18   \n",
       "4  http://www.iracing.com/tracks/gateway-motorspo...          55   \n",
       "\n",
       "   hostname_length  special_characters_count  use_https  ratio_digits_url  \\\n",
       "0               19                         7          0          0.000000   \n",
       "1               23                         7          0          0.220779   \n",
       "2               50                        19          1          0.150794   \n",
       "3               11                         5          0          0.000000   \n",
       "4               15                        10          0          0.000000   \n",
       "\n",
       "   ratio_digits_hostname  \n",
       "0                    0.0  \n",
       "1                    0.0  \n",
       "2                    0.0  \n",
       "3                    0.0  \n",
       "4                    0.0  "
      ]
     },
     "execution_count": 48,
     "metadata": {},
     "output_type": "execute_result"
    }
   ],
   "source": [
    "df.iloc[:, [0, 67, 69, 70, 72, 74, 76 ]].head()"
   ]
  },
  {
   "cell_type": "code",
   "execution_count": 49,
   "metadata": {},
   "outputs": [],
   "source": [
    "#eliminar las columnas que fueron creadas para la derivación de caracteristicas y no son necesarias\n",
    "\n",
    "df.drop(['hostname'], axis = 1, inplace = True)\n",
    "df.drop(['protocol'], axis = 1, inplace = True)\n",
    "df.drop(['url_digits_count'], axis = 1, inplace = True)\n",
    "df.drop(['hostname_digits_count'], axis = 1, inplace = True)"
   ]
  },
  {
   "cell_type": "markdown",
   "metadata": {},
   "source": [
    "### Preprosesamiento"
   ]
  },
  {
   "cell_type": "code",
   "execution_count": 51,
   "metadata": {},
   "outputs": [
    {
     "data": {
      "text/plain": [
       "legitimate    5715\n",
       "phishing      5715\n",
       "Name: status, dtype: int64"
      ]
     },
     "execution_count": 51,
     "metadata": {},
     "output_type": "execute_result"
    }
   ],
   "source": [
    "# convertir status a variable binaria\n",
    "df['status'].value_counts()"
   ]
  },
  {
   "cell_type": "code",
   "execution_count": 52,
   "metadata": {},
   "outputs": [],
   "source": [
    "df['status'] = df['status'].replace(to_replace='legitimate', value=1)\n",
    "df['status'] = df['status'].replace(to_replace='phishing', value=0)"
   ]
  },
  {
   "cell_type": "code",
   "execution_count": 53,
   "metadata": {},
   "outputs": [],
   "source": [
    "# eliminar la columna del dominio\n",
    "\n",
    "df.drop(['url'], axis = 1, inplace = True)"
   ]
  },
  {
   "cell_type": "markdown",
   "metadata": {},
   "source": [
    "### Visualización de resultados"
   ]
  },
  {
   "cell_type": "code",
   "execution_count": 54,
   "metadata": {},
   "outputs": [
    {
     "name": "stderr",
     "output_type": "stream",
     "text": [
      "Summarize dataset:  99%|█████████▉| 1168/1174 [03:36<00:01,  5.20it/s, Missing diagram bar]                                          C:\\Users\\cesarvin\\AppData\\Local\\Programs\\Python\\Python39\\lib\\site-packages\\missingno\\missingno.py:250: UserWarning: FixedFormatter should only be used together with FixedLocator\n",
      "  ax1.set_xticklabels(ax1.get_xticklabels(), rotation=45, ha='right', fontsize=fontsize)\n",
      "C:\\Users\\cesarvin\\AppData\\Local\\Programs\\Python\\Python39\\lib\\site-packages\\pandas_profiling\\model\\missing.py:89: UserWarning: There was an attempt to generate the Count missing values diagrams, but this failed.\n",
      "To hide this warning, disable the calculation\n",
      "(using `df.profile_report(missing_diagrams={\"Count\": False}`)\n",
      "If this is problematic for your use case, please report this as an issue:\n",
      "https://github.com/pandas-profiling/pandas-profiling/issues\n",
      "(include the error message: 'The number of FixedLocator locations (7), usually from a call to set_ticks, does not match the number of ticklabels (72).')\n",
      "  warnings.warn(\n",
      "Summarize dataset: 100%|██████████| 1174/1174 [03:40<00:00,  5.34it/s, Completed]               \n",
      "Generate report structure: 100%|██████████| 1/1 [00:34<00:00, 34.85s/it]\n",
      "Render HTML: 100%|██████████| 1/1 [00:28<00:00, 28.75s/it]\n",
      "Export report to file: 100%|██████████| 1/1 [00:00<00:00,  1.67it/s]\n"
     ]
    }
   ],
   "source": [
    "# reporte con pandas profiling\n",
    "pd_profile = ProfileReport(df, title='Visualización de resultados')\n",
    "pd_profile.to_file('Reporte_de_perfil.html')"
   ]
  },
  {
   "cell_type": "markdown",
   "metadata": {},
   "source": [
    "### Selección de Características"
   ]
  },
  {
   "cell_type": "markdown",
   "metadata": {},
   "source": [
    "En base al reporte generado, las características relevantes que se relacionan con [status] que pudimos identificar son:\n",
    "* status\n",
    "* nb_redirection\n",
    "* length_words_raw\n",
    "* phish_hints\n",
    "* ratio_intHyperlinks\n",
    "* ratio_extHyperlinks\n",
    "* ratio_intHyperlinks\n",
    "* external_favicon\n",
    "* domain_with_copyright\n",
    "* domain_age\n",
    "* web_traffic\n",
    "* google_index\n",
    "* page_rank\n",
    "* url_length\n",
    "* hostname_length\n",
    "* special_characters_count\n",
    "* use_https\n",
    "* ratio_digits_url\n",
    "* ratio_digits_url\n"
   ]
  },
  {
   "cell_type": "code",
   "execution_count": 55,
   "metadata": {},
   "outputs": [],
   "source": [
    "# limpiar el dataset para dejar solo las caracteristicas necesarias para el modelo\n",
    "\n",
    "clean_df = df[['status', 'nb_redirection', 'length_words_raw', 'phish_hints', 'ratio_intHyperlinks', 'ratio_extHyperlinks', 'ratio_intHyperlinks', 'external_favicon', 'domain_with_copyright', 'domain_age', 'web_traffic', 'google_index', 'page_rank', 'url_length', 'hostname_length', 'special_characters_count', 'use_https', 'ratio_digits_url', 'ratio_digits_url']]"
   ]
  },
  {
   "cell_type": "code",
   "execution_count": 56,
   "metadata": {},
   "outputs": [
    {
     "data": {
      "text/html": [
       "<div>\n",
       "<style scoped>\n",
       "    .dataframe tbody tr th:only-of-type {\n",
       "        vertical-align: middle;\n",
       "    }\n",
       "\n",
       "    .dataframe tbody tr th {\n",
       "        vertical-align: top;\n",
       "    }\n",
       "\n",
       "    .dataframe thead th {\n",
       "        text-align: right;\n",
       "    }\n",
       "</style>\n",
       "<table border=\"1\" class=\"dataframe\">\n",
       "  <thead>\n",
       "    <tr style=\"text-align: right;\">\n",
       "      <th></th>\n",
       "      <th>status</th>\n",
       "      <th>nb_redirection</th>\n",
       "      <th>length_words_raw</th>\n",
       "      <th>phish_hints</th>\n",
       "      <th>ratio_intHyperlinks</th>\n",
       "      <th>ratio_extHyperlinks</th>\n",
       "      <th>ratio_intHyperlinks</th>\n",
       "      <th>external_favicon</th>\n",
       "      <th>domain_with_copyright</th>\n",
       "      <th>domain_age</th>\n",
       "      <th>web_traffic</th>\n",
       "      <th>google_index</th>\n",
       "      <th>page_rank</th>\n",
       "      <th>url_length</th>\n",
       "      <th>hostname_length</th>\n",
       "      <th>special_characters_count</th>\n",
       "      <th>use_https</th>\n",
       "      <th>ratio_digits_url</th>\n",
       "      <th>ratio_digits_url</th>\n",
       "    </tr>\n",
       "  </thead>\n",
       "  <tbody>\n",
       "    <tr>\n",
       "      <th>0</th>\n",
       "      <td>1</td>\n",
       "      <td>0</td>\n",
       "      <td>4</td>\n",
       "      <td>0</td>\n",
       "      <td>0.529412</td>\n",
       "      <td>0.470588</td>\n",
       "      <td>0.529412</td>\n",
       "      <td>0</td>\n",
       "      <td>1</td>\n",
       "      <td>-1</td>\n",
       "      <td>0</td>\n",
       "      <td>1</td>\n",
       "      <td>4</td>\n",
       "      <td>37</td>\n",
       "      <td>19</td>\n",
       "      <td>7</td>\n",
       "      <td>0</td>\n",
       "      <td>0.000000</td>\n",
       "      <td>0.000000</td>\n",
       "    </tr>\n",
       "    <tr>\n",
       "      <th>1</th>\n",
       "      <td>0</td>\n",
       "      <td>1</td>\n",
       "      <td>4</td>\n",
       "      <td>0</td>\n",
       "      <td>0.966667</td>\n",
       "      <td>0.033333</td>\n",
       "      <td>0.966667</td>\n",
       "      <td>0</td>\n",
       "      <td>0</td>\n",
       "      <td>5767</td>\n",
       "      <td>0</td>\n",
       "      <td>1</td>\n",
       "      <td>2</td>\n",
       "      <td>77</td>\n",
       "      <td>23</td>\n",
       "      <td>7</td>\n",
       "      <td>0</td>\n",
       "      <td>0.220779</td>\n",
       "      <td>0.220779</td>\n",
       "    </tr>\n",
       "    <tr>\n",
       "      <th>2</th>\n",
       "      <td>0</td>\n",
       "      <td>1</td>\n",
       "      <td>12</td>\n",
       "      <td>0</td>\n",
       "      <td>1.000000</td>\n",
       "      <td>0.000000</td>\n",
       "      <td>1.000000</td>\n",
       "      <td>0</td>\n",
       "      <td>0</td>\n",
       "      <td>4004</td>\n",
       "      <td>5828815</td>\n",
       "      <td>1</td>\n",
       "      <td>0</td>\n",
       "      <td>126</td>\n",
       "      <td>50</td>\n",
       "      <td>19</td>\n",
       "      <td>1</td>\n",
       "      <td>0.150794</td>\n",
       "      <td>0.150794</td>\n",
       "    </tr>\n",
       "    <tr>\n",
       "      <th>3</th>\n",
       "      <td>1</td>\n",
       "      <td>1</td>\n",
       "      <td>1</td>\n",
       "      <td>0</td>\n",
       "      <td>0.973154</td>\n",
       "      <td>0.026846</td>\n",
       "      <td>0.973154</td>\n",
       "      <td>0</td>\n",
       "      <td>0</td>\n",
       "      <td>-1</td>\n",
       "      <td>107721</td>\n",
       "      <td>0</td>\n",
       "      <td>3</td>\n",
       "      <td>18</td>\n",
       "      <td>11</td>\n",
       "      <td>5</td>\n",
       "      <td>0</td>\n",
       "      <td>0.000000</td>\n",
       "      <td>0.000000</td>\n",
       "    </tr>\n",
       "    <tr>\n",
       "      <th>4</th>\n",
       "      <td>1</td>\n",
       "      <td>1</td>\n",
       "      <td>6</td>\n",
       "      <td>0</td>\n",
       "      <td>0.470588</td>\n",
       "      <td>0.529412</td>\n",
       "      <td>0.470588</td>\n",
       "      <td>0</td>\n",
       "      <td>1</td>\n",
       "      <td>8175</td>\n",
       "      <td>8725</td>\n",
       "      <td>0</td>\n",
       "      <td>6</td>\n",
       "      <td>55</td>\n",
       "      <td>15</td>\n",
       "      <td>10</td>\n",
       "      <td>0</td>\n",
       "      <td>0.000000</td>\n",
       "      <td>0.000000</td>\n",
       "    </tr>\n",
       "    <tr>\n",
       "      <th>...</th>\n",
       "      <td>...</td>\n",
       "      <td>...</td>\n",
       "      <td>...</td>\n",
       "      <td>...</td>\n",
       "      <td>...</td>\n",
       "      <td>...</td>\n",
       "      <td>...</td>\n",
       "      <td>...</td>\n",
       "      <td>...</td>\n",
       "      <td>...</td>\n",
       "      <td>...</td>\n",
       "      <td>...</td>\n",
       "      <td>...</td>\n",
       "      <td>...</td>\n",
       "      <td>...</td>\n",
       "      <td>...</td>\n",
       "      <td>...</td>\n",
       "      <td>...</td>\n",
       "      <td>...</td>\n",
       "    </tr>\n",
       "    <tr>\n",
       "      <th>11425</th>\n",
       "      <td>1</td>\n",
       "      <td>1</td>\n",
       "      <td>4</td>\n",
       "      <td>0</td>\n",
       "      <td>0.884422</td>\n",
       "      <td>0.115578</td>\n",
       "      <td>0.884422</td>\n",
       "      <td>1</td>\n",
       "      <td>0</td>\n",
       "      <td>5396</td>\n",
       "      <td>3980</td>\n",
       "      <td>0</td>\n",
       "      <td>6</td>\n",
       "      <td>45</td>\n",
       "      <td>17</td>\n",
       "      <td>7</td>\n",
       "      <td>0</td>\n",
       "      <td>0.000000</td>\n",
       "      <td>0.000000</td>\n",
       "    </tr>\n",
       "    <tr>\n",
       "      <th>11426</th>\n",
       "      <td>0</td>\n",
       "      <td>1</td>\n",
       "      <td>12</td>\n",
       "      <td>0</td>\n",
       "      <td>1.000000</td>\n",
       "      <td>0.000000</td>\n",
       "      <td>1.000000</td>\n",
       "      <td>0</td>\n",
       "      <td>0</td>\n",
       "      <td>6728</td>\n",
       "      <td>0</td>\n",
       "      <td>1</td>\n",
       "      <td>0</td>\n",
       "      <td>84</td>\n",
       "      <td>18</td>\n",
       "      <td>16</td>\n",
       "      <td>0</td>\n",
       "      <td>0.023810</td>\n",
       "      <td>0.023810</td>\n",
       "    </tr>\n",
       "    <tr>\n",
       "      <th>11427</th>\n",
       "      <td>1</td>\n",
       "      <td>0</td>\n",
       "      <td>13</td>\n",
       "      <td>0</td>\n",
       "      <td>0.470588</td>\n",
       "      <td>0.529412</td>\n",
       "      <td>0.470588</td>\n",
       "      <td>1</td>\n",
       "      <td>0</td>\n",
       "      <td>8515</td>\n",
       "      <td>8</td>\n",
       "      <td>1</td>\n",
       "      <td>10</td>\n",
       "      <td>105</td>\n",
       "      <td>16</td>\n",
       "      <td>17</td>\n",
       "      <td>1</td>\n",
       "      <td>0.142857</td>\n",
       "      <td>0.142857</td>\n",
       "    </tr>\n",
       "    <tr>\n",
       "      <th>11428</th>\n",
       "      <td>1</td>\n",
       "      <td>0</td>\n",
       "      <td>2</td>\n",
       "      <td>0</td>\n",
       "      <td>0.375000</td>\n",
       "      <td>0.625000</td>\n",
       "      <td>0.375000</td>\n",
       "      <td>1</td>\n",
       "      <td>0</td>\n",
       "      <td>2836</td>\n",
       "      <td>2455493</td>\n",
       "      <td>0</td>\n",
       "      <td>4</td>\n",
       "      <td>38</td>\n",
       "      <td>30</td>\n",
       "      <td>6</td>\n",
       "      <td>0</td>\n",
       "      <td>0.000000</td>\n",
       "      <td>0.000000</td>\n",
       "    </tr>\n",
       "    <tr>\n",
       "      <th>11429</th>\n",
       "      <td>0</td>\n",
       "      <td>1</td>\n",
       "      <td>90</td>\n",
       "      <td>3</td>\n",
       "      <td>0.428571</td>\n",
       "      <td>0.571429</td>\n",
       "      <td>0.428571</td>\n",
       "      <td>1</td>\n",
       "      <td>1</td>\n",
       "      <td>-1</td>\n",
       "      <td>0</td>\n",
       "      <td>1</td>\n",
       "      <td>0</td>\n",
       "      <td>477</td>\n",
       "      <td>14</td>\n",
       "      <td>99</td>\n",
       "      <td>0</td>\n",
       "      <td>0.085954</td>\n",
       "      <td>0.085954</td>\n",
       "    </tr>\n",
       "  </tbody>\n",
       "</table>\n",
       "<p>11068 rows × 19 columns</p>\n",
       "</div>"
      ],
      "text/plain": [
       "       status  nb_redirection  length_words_raw  phish_hints  \\\n",
       "0           1               0                 4            0   \n",
       "1           0               1                 4            0   \n",
       "2           0               1                12            0   \n",
       "3           1               1                 1            0   \n",
       "4           1               1                 6            0   \n",
       "...       ...             ...               ...          ...   \n",
       "11425       1               1                 4            0   \n",
       "11426       0               1                12            0   \n",
       "11427       1               0                13            0   \n",
       "11428       1               0                 2            0   \n",
       "11429       0               1                90            3   \n",
       "\n",
       "       ratio_intHyperlinks  ratio_extHyperlinks  ratio_intHyperlinks  \\\n",
       "0                 0.529412             0.470588             0.529412   \n",
       "1                 0.966667             0.033333             0.966667   \n",
       "2                 1.000000             0.000000             1.000000   \n",
       "3                 0.973154             0.026846             0.973154   \n",
       "4                 0.470588             0.529412             0.470588   \n",
       "...                    ...                  ...                  ...   \n",
       "11425             0.884422             0.115578             0.884422   \n",
       "11426             1.000000             0.000000             1.000000   \n",
       "11427             0.470588             0.529412             0.470588   \n",
       "11428             0.375000             0.625000             0.375000   \n",
       "11429             0.428571             0.571429             0.428571   \n",
       "\n",
       "       external_favicon  domain_with_copyright  domain_age  web_traffic  \\\n",
       "0                     0                      1          -1            0   \n",
       "1                     0                      0        5767            0   \n",
       "2                     0                      0        4004      5828815   \n",
       "3                     0                      0          -1       107721   \n",
       "4                     0                      1        8175         8725   \n",
       "...                 ...                    ...         ...          ...   \n",
       "11425                 1                      0        5396         3980   \n",
       "11426                 0                      0        6728            0   \n",
       "11427                 1                      0        8515            8   \n",
       "11428                 1                      0        2836      2455493   \n",
       "11429                 1                      1          -1            0   \n",
       "\n",
       "       google_index  page_rank  url_length  hostname_length  \\\n",
       "0                 1          4          37               19   \n",
       "1                 1          2          77               23   \n",
       "2                 1          0         126               50   \n",
       "3                 0          3          18               11   \n",
       "4                 0          6          55               15   \n",
       "...             ...        ...         ...              ...   \n",
       "11425             0          6          45               17   \n",
       "11426             1          0          84               18   \n",
       "11427             1         10         105               16   \n",
       "11428             0          4          38               30   \n",
       "11429             1          0         477               14   \n",
       "\n",
       "       special_characters_count  use_https  ratio_digits_url  ratio_digits_url  \n",
       "0                             7          0          0.000000          0.000000  \n",
       "1                             7          0          0.220779          0.220779  \n",
       "2                            19          1          0.150794          0.150794  \n",
       "3                             5          0          0.000000          0.000000  \n",
       "4                            10          0          0.000000          0.000000  \n",
       "...                         ...        ...               ...               ...  \n",
       "11425                         7          0          0.000000          0.000000  \n",
       "11426                        16          0          0.023810          0.023810  \n",
       "11427                        17          1          0.142857          0.142857  \n",
       "11428                         6          0          0.000000          0.000000  \n",
       "11429                        99          0          0.085954          0.085954  \n",
       "\n",
       "[11068 rows x 19 columns]"
      ]
     },
     "execution_count": 56,
     "metadata": {},
     "output_type": "execute_result"
    }
   ],
   "source": [
    "# Verifique que no posee datos repetidos\n",
    "\n",
    "clean_df.drop_duplicates()"
   ]
  },
  {
   "cell_type": "code",
   "execution_count": 57,
   "metadata": {},
   "outputs": [],
   "source": [
    "# Guardar el nuevo dataframe limpio\n",
    "\n",
    "clean_df.to_csv('dataset_pishing_clean.csv')"
   ]
  },
  {
   "cell_type": "markdown",
   "metadata": {},
   "source": [
    "## Parte 2"
   ]
  },
  {
   "cell_type": "markdown",
   "metadata": {},
   "source": [
    "### Separación de datos"
   ]
  },
  {
   "cell_type": "code",
   "execution_count": 68,
   "metadata": {},
   "outputs": [],
   "source": [
    "target = clean_df['status']\n",
    "feature_matrix = clean_df.drop(['status'], axis=1)"
   ]
  },
  {
   "cell_type": "code",
   "execution_count": 69,
   "metadata": {},
   "outputs": [],
   "source": [
    "df_train, df_validate, df_test = np.split(feature_matrix.sample(frac=1, random_state=42), [int(.55*len(feature_matrix)), int(.7*len(feature_matrix))])"
   ]
  },
  {
   "cell_type": "code",
   "execution_count": 70,
   "metadata": {},
   "outputs": [
    {
     "data": {
      "text/plain": [
       "status                      11430\n",
       "nb_redirection              11430\n",
       "length_words_raw            11430\n",
       "phish_hints                 11430\n",
       "ratio_intHyperlinks         11430\n",
       "ratio_extHyperlinks         11430\n",
       "ratio_intHyperlinks         11430\n",
       "external_favicon            11430\n",
       "domain_with_copyright       11430\n",
       "domain_age                  11430\n",
       "web_traffic                 11430\n",
       "google_index                11430\n",
       "page_rank                   11430\n",
       "url_length                  11430\n",
       "hostname_length             11430\n",
       "special_characters_count    11430\n",
       "use_https                   11430\n",
       "ratio_digits_url            11430\n",
       "ratio_digits_url            11430\n",
       "dtype: int64"
      ]
     },
     "execution_count": 70,
     "metadata": {},
     "output_type": "execute_result"
    }
   ],
   "source": [
    "clean_df.count()"
   ]
  },
  {
   "cell_type": "code",
   "execution_count": 71,
   "metadata": {},
   "outputs": [
    {
     "data": {
      "text/plain": [
       "nb_redirection              6286\n",
       "length_words_raw            6286\n",
       "phish_hints                 6286\n",
       "ratio_intHyperlinks         6286\n",
       "ratio_extHyperlinks         6286\n",
       "ratio_intHyperlinks         6286\n",
       "external_favicon            6286\n",
       "domain_with_copyright       6286\n",
       "domain_age                  6286\n",
       "web_traffic                 6286\n",
       "google_index                6286\n",
       "page_rank                   6286\n",
       "url_length                  6286\n",
       "hostname_length             6286\n",
       "special_characters_count    6286\n",
       "use_https                   6286\n",
       "ratio_digits_url            6286\n",
       "ratio_digits_url            6286\n",
       "dtype: int64"
      ]
     },
     "execution_count": 71,
     "metadata": {},
     "output_type": "execute_result"
    }
   ],
   "source": [
    "df_train.count()"
   ]
  },
  {
   "cell_type": "code",
   "execution_count": 72,
   "metadata": {},
   "outputs": [
    {
     "data": {
      "text/plain": [
       "nb_redirection              1714\n",
       "length_words_raw            1714\n",
       "phish_hints                 1714\n",
       "ratio_intHyperlinks         1714\n",
       "ratio_extHyperlinks         1714\n",
       "ratio_intHyperlinks         1714\n",
       "external_favicon            1714\n",
       "domain_with_copyright       1714\n",
       "domain_age                  1714\n",
       "web_traffic                 1714\n",
       "google_index                1714\n",
       "page_rank                   1714\n",
       "url_length                  1714\n",
       "hostname_length             1714\n",
       "special_characters_count    1714\n",
       "use_https                   1714\n",
       "ratio_digits_url            1714\n",
       "ratio_digits_url            1714\n",
       "dtype: int64"
      ]
     },
     "execution_count": 72,
     "metadata": {},
     "output_type": "execute_result"
    }
   ],
   "source": [
    "df_validate.count()"
   ]
  },
  {
   "cell_type": "code",
   "execution_count": 73,
   "metadata": {},
   "outputs": [
    {
     "data": {
      "text/plain": [
       "nb_redirection              3430\n",
       "length_words_raw            3430\n",
       "phish_hints                 3430\n",
       "ratio_intHyperlinks         3430\n",
       "ratio_extHyperlinks         3430\n",
       "ratio_intHyperlinks         3430\n",
       "external_favicon            3430\n",
       "domain_with_copyright       3430\n",
       "domain_age                  3430\n",
       "web_traffic                 3430\n",
       "google_index                3430\n",
       "page_rank                   3430\n",
       "url_length                  3430\n",
       "hostname_length             3430\n",
       "special_characters_count    3430\n",
       "use_https                   3430\n",
       "ratio_digits_url            3430\n",
       "ratio_digits_url            3430\n",
       "dtype: int64"
      ]
     },
     "execution_count": 73,
     "metadata": {},
     "output_type": "execute_result"
    }
   ],
   "source": [
    "df_test.count()"
   ]
  },
  {
   "cell_type": "code",
   "execution_count": 74,
   "metadata": {},
   "outputs": [],
   "source": [
    "# guardar archivos generados\n",
    "df_train.to_csv('dataset_pishing_train.csv')\n",
    "df_validate.to_csv('dataset_pishing_validate.csv')\n",
    "df_test.to_csv('dataset_pishing_test.csv')"
   ]
  },
  {
   "cell_type": "markdown",
   "metadata": {},
   "source": [
    "### Implementación"
   ]
  },
  {
   "cell_type": "code",
   "execution_count": null,
   "metadata": {},
   "outputs": [],
   "source": []
  }
 ],
 "metadata": {
  "interpreter": {
   "hash": "b0e37b52de81b42c89820adebd162f26ec36a04eb94768ecb3ff90c62fe5871b"
  },
  "kernelspec": {
   "display_name": "Python 3.9.2 64-bit",
   "language": "python",
   "name": "python3"
  },
  "language_info": {
   "codemirror_mode": {
    "name": "ipython",
    "version": 3
   },
   "file_extension": ".py",
   "mimetype": "text/x-python",
   "name": "python",
   "nbconvert_exporter": "python",
   "pygments_lexer": "ipython3",
   "version": "3.9.2"
  },
  "orig_nbformat": 4
 },
 "nbformat": 4,
 "nbformat_minor": 2
}
